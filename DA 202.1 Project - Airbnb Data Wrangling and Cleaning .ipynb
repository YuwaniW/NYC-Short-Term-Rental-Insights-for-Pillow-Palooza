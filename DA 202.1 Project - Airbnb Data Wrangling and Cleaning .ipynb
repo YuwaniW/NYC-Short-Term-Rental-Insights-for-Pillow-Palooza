{
 "cells": [
  {
   "cell_type": "code",
   "execution_count": null,
   "id": "73d9a93b",
   "metadata": {},
   "outputs": [],
   "source": [
    "# Packages imports\n",
    "import pandas as pd\n",
    "import numpy as np\n",
    "import datetime as dt\n",
    "from functools import reduce\n",
    "import matplotlib.pyplot as plt"
   ]
  },
  {
   "cell_type": "code",
   "execution_count": 2,
   "id": "d2fa3a40",
   "metadata": {},
   "outputs": [
    {
     "data": {
      "text/html": [
       "<div>\n",
       "<style scoped>\n",
       "    .dataframe tbody tr th:only-of-type {\n",
       "        vertical-align: middle;\n",
       "    }\n",
       "\n",
       "    .dataframe tbody tr th {\n",
       "        vertical-align: top;\n",
       "    }\n",
       "\n",
       "    .dataframe thead th {\n",
       "        text-align: right;\n",
       "    }\n",
       "</style>\n",
       "<table border=\"1\" class=\"dataframe\">\n",
       "  <thead>\n",
       "    <tr style=\"text-align: right;\">\n",
       "      <th></th>\n",
       "      <th>listing_id</th>\n",
       "      <th>price</th>\n",
       "      <th>nbhood_full</th>\n",
       "    </tr>\n",
       "  </thead>\n",
       "  <tbody>\n",
       "    <tr>\n",
       "      <th>0</th>\n",
       "      <td>2595</td>\n",
       "      <td>225 dollars</td>\n",
       "      <td>Manhattan, Midtown</td>\n",
       "    </tr>\n",
       "    <tr>\n",
       "      <th>1</th>\n",
       "      <td>3831</td>\n",
       "      <td>89 dollars</td>\n",
       "      <td>Brooklyn, Clinton Hill</td>\n",
       "    </tr>\n",
       "    <tr>\n",
       "      <th>2</th>\n",
       "      <td>5099</td>\n",
       "      <td>200 dollars</td>\n",
       "      <td>Manhattan, Murray Hill</td>\n",
       "    </tr>\n",
       "    <tr>\n",
       "      <th>3</th>\n",
       "      <td>5178</td>\n",
       "      <td>79 dollars</td>\n",
       "      <td>Manhattan, Hell's Kitchen</td>\n",
       "    </tr>\n",
       "    <tr>\n",
       "      <th>4</th>\n",
       "      <td>5238</td>\n",
       "      <td>150 dollars</td>\n",
       "      <td>Manhattan, Chinatown</td>\n",
       "    </tr>\n",
       "  </tbody>\n",
       "</table>\n",
       "</div>"
      ],
      "text/plain": [
       "   listing_id        price                nbhood_full\n",
       "0        2595  225 dollars         Manhattan, Midtown\n",
       "1        3831   89 dollars     Brooklyn, Clinton Hill\n",
       "2        5099  200 dollars     Manhattan, Murray Hill\n",
       "3        5178   79 dollars  Manhattan, Hell's Kitchen\n",
       "4        5238  150 dollars       Manhattan, Chinatown"
      ]
     },
     "execution_count": 2,
     "metadata": {},
     "output_type": "execute_result"
    }
   ],
   "source": [
    "# Import the dataset named \"airbnb_price.csv\" as a DataFrame called prices\n",
    "\n",
    "prices = pd.read_csv('airbnb_price.csv')\n",
    "\n",
    "# Display top few rows, the dataframe names as \"prices\"\n",
    "\n",
    "prices.head()"
   ]
  },
  {
   "cell_type": "code",
   "execution_count": 3,
   "id": "cbff993a",
   "metadata": {},
   "outputs": [
    {
     "data": {
      "text/html": [
       "<div>\n",
       "<style scoped>\n",
       "    .dataframe tbody tr th:only-of-type {\n",
       "        vertical-align: middle;\n",
       "    }\n",
       "\n",
       "    .dataframe tbody tr th {\n",
       "        vertical-align: top;\n",
       "    }\n",
       "\n",
       "    .dataframe thead th {\n",
       "        text-align: right;\n",
       "    }\n",
       "</style>\n",
       "<table border=\"1\" class=\"dataframe\">\n",
       "  <thead>\n",
       "    <tr style=\"text-align: right;\">\n",
       "      <th></th>\n",
       "      <th>listing_id</th>\n",
       "      <th>description</th>\n",
       "      <th>room_type</th>\n",
       "    </tr>\n",
       "  </thead>\n",
       "  <tbody>\n",
       "    <tr>\n",
       "      <th>0</th>\n",
       "      <td>2595</td>\n",
       "      <td>Skylit Midtown Castle</td>\n",
       "      <td>Entire home/apt</td>\n",
       "    </tr>\n",
       "    <tr>\n",
       "      <th>1</th>\n",
       "      <td>3831</td>\n",
       "      <td>Cozy Entire Floor of Brownstone</td>\n",
       "      <td>Entire home/apt</td>\n",
       "    </tr>\n",
       "    <tr>\n",
       "      <th>2</th>\n",
       "      <td>5099</td>\n",
       "      <td>Large Cozy 1 BR Apartment In Midtown East</td>\n",
       "      <td>Entire home/apt</td>\n",
       "    </tr>\n",
       "    <tr>\n",
       "      <th>3</th>\n",
       "      <td>5178</td>\n",
       "      <td>Large Furnished Room Near B'way</td>\n",
       "      <td>private room</td>\n",
       "    </tr>\n",
       "    <tr>\n",
       "      <th>4</th>\n",
       "      <td>5238</td>\n",
       "      <td>Cute &amp; Cozy Lower East Side 1 bdrm</td>\n",
       "      <td>Entire home/apt</td>\n",
       "    </tr>\n",
       "  </tbody>\n",
       "</table>\n",
       "</div>"
      ],
      "text/plain": [
       "   listing_id                                description        room_type\n",
       "0        2595                      Skylit Midtown Castle  Entire home/apt\n",
       "1        3831            Cozy Entire Floor of Brownstone  Entire home/apt\n",
       "2        5099  Large Cozy 1 BR Apartment In Midtown East  Entire home/apt\n",
       "3        5178            Large Furnished Room Near B'way     private room\n",
       "4        5238         Cute & Cozy Lower East Side 1 bdrm  Entire home/apt"
      ]
     },
     "execution_count": 3,
     "metadata": {},
     "output_type": "execute_result"
    }
   ],
   "source": [
    "import pandas as pd\n",
    "\n",
    "# Import the dataset named \"airbnb_room_type.xlsx\" as a DataFrame called xls\n",
    "xls = pd.read_excel('airbnb_room_type.xlsx',sheet_name = 0)\n",
    "\n",
    "# Access the first sheet from xls as a DataFrame\n",
    "room_types = pd.DataFrame(xls)\n",
    "\n",
    "# Display the room_types DataFrame\n",
    "room_types.head()\n"
   ]
  },
  {
   "cell_type": "code",
   "execution_count": 4,
   "id": "0977e398",
   "metadata": {},
   "outputs": [
    {
     "data": {
      "text/html": [
       "<div>\n",
       "<style scoped>\n",
       "    .dataframe tbody tr th:only-of-type {\n",
       "        vertical-align: middle;\n",
       "    }\n",
       "\n",
       "    .dataframe tbody tr th {\n",
       "        vertical-align: top;\n",
       "    }\n",
       "\n",
       "    .dataframe thead th {\n",
       "        text-align: right;\n",
       "    }\n",
       "</style>\n",
       "<table border=\"1\" class=\"dataframe\">\n",
       "  <thead>\n",
       "    <tr style=\"text-align: right;\">\n",
       "      <th></th>\n",
       "      <th>listing_id</th>\n",
       "      <th>host_name</th>\n",
       "      <th>last_review</th>\n",
       "    </tr>\n",
       "  </thead>\n",
       "  <tbody>\n",
       "    <tr>\n",
       "      <th>0</th>\n",
       "      <td>2595</td>\n",
       "      <td>Jennifer</td>\n",
       "      <td>May 21 2019</td>\n",
       "    </tr>\n",
       "    <tr>\n",
       "      <th>1</th>\n",
       "      <td>3831</td>\n",
       "      <td>LisaRoxanne</td>\n",
       "      <td>July 05 2019</td>\n",
       "    </tr>\n",
       "    <tr>\n",
       "      <th>2</th>\n",
       "      <td>5099</td>\n",
       "      <td>Chris</td>\n",
       "      <td>June 22 2019</td>\n",
       "    </tr>\n",
       "    <tr>\n",
       "      <th>3</th>\n",
       "      <td>5178</td>\n",
       "      <td>Shunichi</td>\n",
       "      <td>June 24 2019</td>\n",
       "    </tr>\n",
       "    <tr>\n",
       "      <th>4</th>\n",
       "      <td>5238</td>\n",
       "      <td>Ben</td>\n",
       "      <td>June 09 2019</td>\n",
       "    </tr>\n",
       "  </tbody>\n",
       "</table>\n",
       "</div>"
      ],
      "text/plain": [
       "   listing_id    host_name   last_review\n",
       "0        2595     Jennifer   May 21 2019\n",
       "1        3831  LisaRoxanne  July 05 2019\n",
       "2        5099        Chris  June 22 2019\n",
       "3        5178     Shunichi  June 24 2019\n",
       "4        5238          Ben  June 09 2019"
      ]
     },
     "execution_count": 4,
     "metadata": {},
     "output_type": "execute_result"
    }
   ],
   "source": [
    "# Import the dataset named \"airbnb_last_review.tsv\" as a DataFrame called reviews\n",
    "\n",
    "reviews = pd.read_table('airbnb_last_review.tsv',sep=\"\\t\")\n",
    "\n",
    "# Display top few rows, the dataframe names as \"reviews\"\n",
    "\n",
    "reviews.head()"
   ]
  },
  {
   "cell_type": "code",
   "execution_count": 5,
   "id": "d5cb9915",
   "metadata": {},
   "outputs": [
    {
     "data": {
      "text/plain": [
       "listing_id      int64\n",
       "price          object\n",
       "nbhood_full    object\n",
       "dtype: object"
      ]
     },
     "execution_count": 5,
     "metadata": {},
     "output_type": "execute_result"
    }
   ],
   "source": [
    "# Get datatypes of column of prices df\n",
    "\n",
    "prices.dtypes\n"
   ]
  },
  {
   "cell_type": "code",
   "execution_count": 1,
   "id": "82bc6f42",
   "metadata": {},
   "outputs": [
    {
     "ename": "NameError",
     "evalue": "name 'prices' is not defined",
     "output_type": "error",
     "traceback": [
      "\u001b[1;31m---------------------------------------------------------------------------\u001b[0m",
      "\u001b[1;31mNameError\u001b[0m                                 Traceback (most recent call last)",
      "Input \u001b[1;32mIn [1]\u001b[0m, in \u001b[0;36m<cell line: 3>\u001b[1;34m()\u001b[0m\n\u001b[0;32m      1\u001b[0m \u001b[38;5;66;03m# Get DataFrame information\u001b[39;00m\n\u001b[1;32m----> 3\u001b[0m \u001b[43mprices\u001b[49m\u001b[38;5;241m.\u001b[39minfo()\n",
      "\u001b[1;31mNameError\u001b[0m: name 'prices' is not defined"
     ]
    }
   ],
   "source": [
    "# Get DataFrame information\n",
    "\n",
    "prices.info()"
   ]
  },
  {
   "cell_type": "code",
   "execution_count": 7,
   "id": "032a069f",
   "metadata": {},
   "outputs": [
    {
     "data": {
      "text/plain": [
       "listing_id     0\n",
       "price          0\n",
       "nbhood_full    0\n",
       "dtype: int64"
      ]
     },
     "execution_count": 7,
     "metadata": {},
     "output_type": "execute_result"
    }
   ],
   "source": [
    "# Get null values\n",
    "\n",
    "prices.isnull().sum()"
   ]
  },
  {
   "cell_type": "code",
   "execution_count": 8,
   "id": "0d009b4d",
   "metadata": {},
   "outputs": [],
   "source": [
    "# # Remove whitespace and string characters from prices column and change it to the integer\n",
    "prices['price'] = prices['price'].str.replace(' dollars', '')\n",
    "\n",
    "prices['price'] = prices['price'].astype('int')"
   ]
  },
  {
   "cell_type": "code",
   "execution_count": 9,
   "id": "c7dba539",
   "metadata": {},
   "outputs": [],
   "source": [
    "# Verify that Revenue is now an integer\n",
    "assert prices['price'].dtype == 'int'"
   ]
  },
  {
   "cell_type": "code",
   "execution_count": 10,
   "id": "f8074d32",
   "metadata": {},
   "outputs": [
    {
     "data": {
      "text/html": [
       "<div>\n",
       "<style scoped>\n",
       "    .dataframe tbody tr th:only-of-type {\n",
       "        vertical-align: middle;\n",
       "    }\n",
       "\n",
       "    .dataframe tbody tr th {\n",
       "        vertical-align: top;\n",
       "    }\n",
       "\n",
       "    .dataframe thead th {\n",
       "        text-align: right;\n",
       "    }\n",
       "</style>\n",
       "<table border=\"1\" class=\"dataframe\">\n",
       "  <thead>\n",
       "    <tr style=\"text-align: right;\">\n",
       "      <th></th>\n",
       "      <th>listing_id</th>\n",
       "      <th>price</th>\n",
       "      <th>nbhood_full</th>\n",
       "    </tr>\n",
       "  </thead>\n",
       "  <tbody>\n",
       "    <tr>\n",
       "      <th>10861</th>\n",
       "      <td>20333471</td>\n",
       "      <td>0</td>\n",
       "      <td>Bronx, East Morrisania</td>\n",
       "    </tr>\n",
       "    <tr>\n",
       "      <th>10958</th>\n",
       "      <td>20523843</td>\n",
       "      <td>0</td>\n",
       "      <td>Brooklyn, Bushwick</td>\n",
       "    </tr>\n",
       "    <tr>\n",
       "      <th>11023</th>\n",
       "      <td>20639628</td>\n",
       "      <td>0</td>\n",
       "      <td>Brooklyn, Bedford-Stuyvesant</td>\n",
       "    </tr>\n",
       "    <tr>\n",
       "      <th>11024</th>\n",
       "      <td>20639792</td>\n",
       "      <td>0</td>\n",
       "      <td>Brooklyn, Bedford-Stuyvesant</td>\n",
       "    </tr>\n",
       "    <tr>\n",
       "      <th>11025</th>\n",
       "      <td>20639914</td>\n",
       "      <td>0</td>\n",
       "      <td>Brooklyn, Bedford-Stuyvesant</td>\n",
       "    </tr>\n",
       "    <tr>\n",
       "      <th>11577</th>\n",
       "      <td>21291569</td>\n",
       "      <td>0</td>\n",
       "      <td>Brooklyn, Bushwick</td>\n",
       "    </tr>\n",
       "    <tr>\n",
       "      <th>11589</th>\n",
       "      <td>21304320</td>\n",
       "      <td>0</td>\n",
       "      <td>Brooklyn, Bushwick</td>\n",
       "    </tr>\n",
       "  </tbody>\n",
       "</table>\n",
       "</div>"
      ],
      "text/plain": [
       "       listing_id  price                   nbhood_full\n",
       "10861    20333471      0        Bronx, East Morrisania\n",
       "10958    20523843      0            Brooklyn, Bushwick\n",
       "11023    20639628      0  Brooklyn, Bedford-Stuyvesant\n",
       "11024    20639792      0  Brooklyn, Bedford-Stuyvesant\n",
       "11025    20639914      0  Brooklyn, Bedford-Stuyvesant\n",
       "11577    21291569      0            Brooklyn, Bushwick\n",
       "11589    21304320      0            Brooklyn, Bushwick"
      ]
     },
     "execution_count": 10,
     "metadata": {},
     "output_type": "execute_result"
    }
   ],
   "source": [
    "prices[prices['price'] == 0]"
   ]
  },
  {
   "cell_type": "code",
   "execution_count": 11,
   "id": "fbfa3824",
   "metadata": {},
   "outputs": [
    {
     "data": {
      "text/html": [
       "<div>\n",
       "<style scoped>\n",
       "    .dataframe tbody tr th:only-of-type {\n",
       "        vertical-align: middle;\n",
       "    }\n",
       "\n",
       "    .dataframe tbody tr th {\n",
       "        vertical-align: top;\n",
       "    }\n",
       "\n",
       "    .dataframe thead th {\n",
       "        text-align: right;\n",
       "    }\n",
       "</style>\n",
       "<table border=\"1\" class=\"dataframe\">\n",
       "  <thead>\n",
       "    <tr style=\"text-align: right;\">\n",
       "      <th></th>\n",
       "      <th>listing_id</th>\n",
       "      <th>price</th>\n",
       "    </tr>\n",
       "  </thead>\n",
       "  <tbody>\n",
       "    <tr>\n",
       "      <th>count</th>\n",
       "      <td>2.520900e+04</td>\n",
       "      <td>25209.000000</td>\n",
       "    </tr>\n",
       "    <tr>\n",
       "      <th>mean</th>\n",
       "      <td>2.068922e+07</td>\n",
       "      <td>141.777936</td>\n",
       "    </tr>\n",
       "    <tr>\n",
       "      <th>std</th>\n",
       "      <td>1.102928e+07</td>\n",
       "      <td>147.349137</td>\n",
       "    </tr>\n",
       "    <tr>\n",
       "      <th>min</th>\n",
       "      <td>2.595000e+03</td>\n",
       "      <td>0.000000</td>\n",
       "    </tr>\n",
       "    <tr>\n",
       "      <th>25%</th>\n",
       "      <td>1.202273e+07</td>\n",
       "      <td>69.000000</td>\n",
       "    </tr>\n",
       "    <tr>\n",
       "      <th>50%</th>\n",
       "      <td>2.234391e+07</td>\n",
       "      <td>105.000000</td>\n",
       "    </tr>\n",
       "    <tr>\n",
       "      <th>75%</th>\n",
       "      <td>3.037669e+07</td>\n",
       "      <td>175.000000</td>\n",
       "    </tr>\n",
       "    <tr>\n",
       "      <th>max</th>\n",
       "      <td>3.645581e+07</td>\n",
       "      <td>7500.000000</td>\n",
       "    </tr>\n",
       "  </tbody>\n",
       "</table>\n",
       "</div>"
      ],
      "text/plain": [
       "         listing_id         price\n",
       "count  2.520900e+04  25209.000000\n",
       "mean   2.068922e+07    141.777936\n",
       "std    1.102928e+07    147.349137\n",
       "min    2.595000e+03      0.000000\n",
       "25%    1.202273e+07     69.000000\n",
       "50%    2.234391e+07    105.000000\n",
       "75%    3.037669e+07    175.000000\n",
       "max    3.645581e+07   7500.000000"
      ]
     },
     "execution_count": 11,
     "metadata": {},
     "output_type": "execute_result"
    }
   ],
   "source": [
    "# analyze descriptive statistics of prices df\n",
    "prices.describe()"
   ]
  },
  {
   "cell_type": "code",
   "execution_count": 12,
   "id": "6a610da2",
   "metadata": {},
   "outputs": [
    {
     "data": {
      "text/plain": [
       "(25202, 3)"
      ]
     },
     "execution_count": 12,
     "metadata": {},
     "output_type": "execute_result"
    }
   ],
   "source": [
    "# Drop zero-price values using .drop()\n",
    "prices.drop(prices[prices['price'] == 0].index, inplace = True)\n",
    "prices.shape"
   ]
  },
  {
   "cell_type": "code",
   "execution_count": 13,
   "id": "4f6aaa37",
   "metadata": {},
   "outputs": [],
   "source": [
    "# Assert results\n",
    "assert prices['price'].min() > 0"
   ]
  },
  {
   "cell_type": "markdown",
   "id": "0f11da7f",
   "metadata": {},
   "source": [
    " 1). What is the average price, per night, of an Airbnb listing in NYC?"
   ]
  },
  {
   "cell_type": "code",
   "execution_count": 14,
   "id": "6e3a3930",
   "metadata": {},
   "outputs": [
    {
     "name": "stdout",
     "output_type": "stream",
     "text": [
      "The average price, per night, of an Airbnb listing in NYCAvg_price : $141.82\n"
     ]
    }
   ],
   "source": [
    "# Calculate the average price, store it as Avg_price\n",
    "Avgerage_price = round(prices['price'].mean(),2)\n",
    "\n",
    "print('The average price, per night, of an Airbnb listing in NYCAvg_price : $' + str(Avgerage_price))"
   ]
  },
  {
   "cell_type": "markdown",
   "id": "6129bfa8",
   "metadata": {},
   "source": [
    "2).How does the average price of an Airbnb listing, per month, compare to the private rental market?"
   ]
  },
  {
   "cell_type": "code",
   "execution_count": 15,
   "id": "ea910cfa",
   "metadata": {},
   "outputs": [],
   "source": [
    "# Add a new column, price_per_month, to the prices DataFrame, assuming a year consists of 365 days\n",
    "\n",
    "prices['price_per_month'] = prices[\"price\"] * 365/12\n",
    "\n"
   ]
  },
  {
   "cell_type": "code",
   "execution_count": 16,
   "id": "1cec6ba5",
   "metadata": {},
   "outputs": [
    {
     "name": "stdout",
     "output_type": "stream",
     "text": [
      "The average price, per month, of an Airbnb listing in NYCAvg_price: $4313.61\n"
     ]
    }
   ],
   "source": [
    "# Calculate the average price of the price_per_month column and store as a new variable, \n",
    "#Average_price_per_month,\n",
    "\n",
    "Average_price_per_month = prices['price_per_month'].mean()\n",
    "\n",
    "# rounded to two decimal places\n",
    "Average_price_per_month = round(Average_price_per_month,2)\n",
    "\n",
    "print('The average price, per month, of an Airbnb listing in NYCAvg_price: $' + str(Average_price_per_month))"
   ]
  },
  {
   "cell_type": "code",
   "execution_count": 17,
   "id": "fc1fd83b",
   "metadata": {},
   "outputs": [
    {
     "name": "stdout",
     "output_type": "stream",
     "text": [
      "The difference compare to the private rental market: $1213.61\n"
     ]
    }
   ],
   "source": [
    "# Calculate how much more, in dollars, the average cost of an Airbnb listing is versus the private market, \n",
    "# and store it as Difference, rounding your final answer to two decimal places.\n",
    "\n",
    "# According to Zumper,a 1 bedroom apartment in New York City costs, on average, $3,100 per month.\n",
    "\n",
    "# Therefore benchmark for comparison = $3,100 per month\n",
    "\n",
    "Difference = round((Average_price_per_month - 3100),2)\n",
    "\n",
    "print('The difference compare to the private rental market: $' + str(Difference))"
   ]
  },
  {
   "cell_type": "markdown",
   "id": "2ecf2753",
   "metadata": {},
   "source": [
    "3).How many adverts are for private rooms?"
   ]
  },
  {
   "cell_type": "code",
   "execution_count": 18,
   "id": "3d7500ca",
   "metadata": {},
   "outputs": [
    {
     "data": {
      "text/plain": [
       "listing_id      int64\n",
       "description    object\n",
       "room_type      object\n",
       "dtype: object"
      ]
     },
     "execution_count": 18,
     "metadata": {},
     "output_type": "execute_result"
    }
   ],
   "source": [
    "# Get datatypes of column of room_types df\n",
    "\n",
    "room_types.dtypes\n"
   ]
  },
  {
   "cell_type": "code",
   "execution_count": 19,
   "id": "0028ac30",
   "metadata": {},
   "outputs": [
    {
     "name": "stdout",
     "output_type": "stream",
     "text": [
      "<class 'pandas.core.frame.DataFrame'>\n",
      "RangeIndex: 25209 entries, 0 to 25208\n",
      "Data columns (total 3 columns):\n",
      " #   Column       Non-Null Count  Dtype \n",
      "---  ------       --------------  ----- \n",
      " 0   listing_id   25209 non-null  int64 \n",
      " 1   description  25199 non-null  object\n",
      " 2   room_type    25209 non-null  object\n",
      "dtypes: int64(1), object(2)\n",
      "memory usage: 591.0+ KB\n"
     ]
    }
   ],
   "source": [
    "# Get DataFrame information\n",
    "\n",
    "room_types.info()"
   ]
  },
  {
   "cell_type": "code",
   "execution_count": 20,
   "id": "368171d4",
   "metadata": {},
   "outputs": [
    {
     "data": {
      "text/plain": [
       "listing_id      0\n",
       "description    10\n",
       "room_type       0\n",
       "dtype: int64"
      ]
     },
     "execution_count": 20,
     "metadata": {},
     "output_type": "execute_result"
    }
   ],
   "source": [
    "# Get null values\n",
    "\n",
    "room_types.isnull().sum()"
   ]
  },
  {
   "cell_type": "code",
   "execution_count": 21,
   "id": "4166cdd3",
   "metadata": {},
   "outputs": [],
   "source": [
    "# Convert to categorical\n",
    "room_types['room_type'] = room_types['room_type'].astype('category')\n"
   ]
  },
  {
   "cell_type": "code",
   "execution_count": 22,
   "id": "7368b213",
   "metadata": {},
   "outputs": [
    {
     "name": "stdout",
     "output_type": "stream",
     "text": [
      "Entire home/apt    8458\n",
      "Private room       7241\n",
      "entire home/apt    2665\n",
      "private room       2248\n",
      "ENTIRE HOME/APT    2143\n",
      "PRIVATE ROOM       1867\n",
      "Shared room         380\n",
      "shared room         110\n",
      "SHARED ROOM          97\n",
      "Name: room_type, dtype: int64\n"
     ]
    }
   ],
   "source": [
    "# identify the value Inconsistency fields \n",
    "room_type_counts = room_types['room_type'].value_counts()\n",
    "print(room_type_counts)"
   ]
  },
  {
   "cell_type": "code",
   "execution_count": 23,
   "id": "daa0eaf5",
   "metadata": {},
   "outputs": [
    {
     "data": {
      "text/plain": [
       "Entire home/apt    13266\n",
       "Private room       11356\n",
       "Shared room          587\n",
       "Name: room_type, dtype: int64"
      ]
     },
     "execution_count": 23,
     "metadata": {},
     "output_type": "execute_result"
    }
   ],
   "source": [
    "# Fix the Capitalization\n",
    "room_types['room_type'] = room_types['room_type'].str.capitalize()\n",
    "room_types['room_type'].value_counts()"
   ]
  },
  {
   "cell_type": "code",
   "execution_count": 24,
   "id": "c31d6b0c",
   "metadata": {},
   "outputs": [
    {
     "data": {
      "text/plain": [
       "Entire home/apt    13266\n",
       "Private room       11356\n",
       "Shared room          587\n",
       "Name: room_type, dtype: int64"
      ]
     },
     "execution_count": 24,
     "metadata": {},
     "output_type": "execute_result"
    }
   ],
   "source": [
    "# Strip all spaces\n",
    "room_types['room_type'] = room_types['room_type'].str.strip()\n",
    "# store the room_types in Room_frequencies\n",
    "Room_frequencies = room_types['room_type'].value_counts()\n",
    "\n",
    "Room_frequencies"
   ]
  },
  {
   "cell_type": "code",
   "execution_count": 25,
   "id": "7ddbf3da",
   "metadata": {},
   "outputs": [
    {
     "name": "stdout",
     "output_type": "stream",
     "text": [
      "The Number of Private rooms are adverted : 11356\n"
     ]
    }
   ],
   "source": [
    "print('The Number of Private rooms are adverted : 11356')"
   ]
  },
  {
   "cell_type": "markdown",
   "id": "1c59e608",
   "metadata": {},
   "source": [
    "4. What timeframe are we working with?"
   ]
  },
  {
   "cell_type": "code",
   "execution_count": 26,
   "id": "5f8b41c2",
   "metadata": {},
   "outputs": [
    {
     "data": {
      "text/plain": [
       "listing_id      int64\n",
       "host_name      object\n",
       "last_review    object\n",
       "dtype: object"
      ]
     },
     "execution_count": 26,
     "metadata": {},
     "output_type": "execute_result"
    }
   ],
   "source": [
    "# Get datatypes of column of reviews df\n",
    "\n",
    "reviews.dtypes"
   ]
  },
  {
   "cell_type": "code",
   "execution_count": 27,
   "id": "878570a7",
   "metadata": {},
   "outputs": [
    {
     "name": "stdout",
     "output_type": "stream",
     "text": [
      "<class 'pandas.core.frame.DataFrame'>\n",
      "RangeIndex: 25209 entries, 0 to 25208\n",
      "Data columns (total 3 columns):\n",
      " #   Column       Non-Null Count  Dtype \n",
      "---  ------       --------------  ----- \n",
      " 0   listing_id   25209 non-null  int64 \n",
      " 1   host_name    25201 non-null  object\n",
      " 2   last_review  25209 non-null  object\n",
      "dtypes: int64(1), object(2)\n",
      "memory usage: 591.0+ KB\n"
     ]
    }
   ],
   "source": [
    "# Get DataFrame information\n",
    "\n",
    "reviews.info()"
   ]
  },
  {
   "cell_type": "code",
   "execution_count": 28,
   "id": "2c7bb86e",
   "metadata": {},
   "outputs": [
    {
     "data": {
      "text/plain": [
       "listing_id     0\n",
       "host_name      8\n",
       "last_review    0\n",
       "dtype: int64"
      ]
     },
     "execution_count": 28,
     "metadata": {},
     "output_type": "execute_result"
    }
   ],
   "source": [
    "# Get null values\n",
    "\n",
    "reviews.isnull().sum()"
   ]
  },
  {
   "cell_type": "code",
   "execution_count": 29,
   "id": "f4aa4e90",
   "metadata": {},
   "outputs": [],
   "source": [
    "#Convert last_review column to date\n",
    "reviews['last_review'] = pd.to_datetime(reviews['last_review'])"
   ]
  },
  {
   "cell_type": "code",
   "execution_count": 30,
   "id": "a1155783",
   "metadata": {},
   "outputs": [
    {
     "data": {
      "text/plain": [
       "listing_id              int64\n",
       "host_name              object\n",
       "last_review    datetime64[ns]\n",
       "dtype: object"
      ]
     },
     "execution_count": 30,
     "metadata": {},
     "output_type": "execute_result"
    }
   ],
   "source": [
    "# check\n",
    "reviews.dtypes"
   ]
  },
  {
   "cell_type": "code",
   "execution_count": 31,
   "id": "79b60bf7",
   "metadata": {},
   "outputs": [
    {
     "name": "stdout",
     "output_type": "stream",
     "text": [
      "first_reviewed date : 2019-01-01\n"
     ]
    }
   ],
   "source": [
    "# Create First_reviewed, the earliest review date\n",
    "First_reviewed = reviews[\"last_review\"].dt.date.min()\n",
    "\n",
    "print(\"first_reviewed date :\",First_reviewed)"
   ]
  },
  {
   "cell_type": "code",
   "execution_count": 32,
   "id": "b52c4a9f",
   "metadata": {},
   "outputs": [
    {
     "name": "stdout",
     "output_type": "stream",
     "text": [
      "last_reviewed date : 2019-07-09\n"
     ]
    }
   ],
   "source": [
    "# Create Last_reviewed, the most recent review date\n",
    "Last_reviewed = reviews[\"last_review\"].dt.date.max()\n",
    "\n",
    "print(\"last_reviewed date :\",Last_reviewed)"
   ]
  },
  {
   "cell_type": "markdown",
   "id": "6524b5d8",
   "metadata": {},
   "source": [
    "5.Joining the DataFrames"
   ]
  },
  {
   "cell_type": "code",
   "execution_count": 33,
   "id": "7ee2f6c6",
   "metadata": {},
   "outputs": [],
   "source": [
    "#merge the three DataFrames to make any future analysis easier to conduct. Once we have joined the data, \n",
    "#we will remove any observations with missing values and check for duplicates.\n",
    "#from functools import reduce\n",
    "\n",
    "#define list of DataFrames\n",
    "df1 =pd.DataFrame(prices)\n",
    "df2 =pd.DataFrame(room_types)\n",
    "df3 =pd.DataFrame(reviews)\n",
    "\n",
    "dfs = [df1, df2, df3]"
   ]
  },
  {
   "cell_type": "code",
   "execution_count": 34,
   "id": "32b2faef",
   "metadata": {},
   "outputs": [
    {
     "data": {
      "text/html": [
       "<div>\n",
       "<style scoped>\n",
       "    .dataframe tbody tr th:only-of-type {\n",
       "        vertical-align: middle;\n",
       "    }\n",
       "\n",
       "    .dataframe tbody tr th {\n",
       "        vertical-align: top;\n",
       "    }\n",
       "\n",
       "    .dataframe thead th {\n",
       "        text-align: right;\n",
       "    }\n",
       "</style>\n",
       "<table border=\"1\" class=\"dataframe\">\n",
       "  <thead>\n",
       "    <tr style=\"text-align: right;\">\n",
       "      <th></th>\n",
       "      <th>listing_id</th>\n",
       "      <th>price</th>\n",
       "      <th>nbhood_full</th>\n",
       "      <th>price_per_month</th>\n",
       "      <th>description</th>\n",
       "      <th>room_type</th>\n",
       "      <th>host_name</th>\n",
       "      <th>last_review</th>\n",
       "    </tr>\n",
       "  </thead>\n",
       "  <tbody>\n",
       "    <tr>\n",
       "      <th>0</th>\n",
       "      <td>2595</td>\n",
       "      <td>225.0</td>\n",
       "      <td>Manhattan, Midtown</td>\n",
       "      <td>6843.750000</td>\n",
       "      <td>Skylit Midtown Castle</td>\n",
       "      <td>Entire home/apt</td>\n",
       "      <td>Jennifer</td>\n",
       "      <td>2019-05-21</td>\n",
       "    </tr>\n",
       "    <tr>\n",
       "      <th>1</th>\n",
       "      <td>3831</td>\n",
       "      <td>89.0</td>\n",
       "      <td>Brooklyn, Clinton Hill</td>\n",
       "      <td>2707.083333</td>\n",
       "      <td>Cozy Entire Floor of Brownstone</td>\n",
       "      <td>Entire home/apt</td>\n",
       "      <td>LisaRoxanne</td>\n",
       "      <td>2019-07-05</td>\n",
       "    </tr>\n",
       "    <tr>\n",
       "      <th>2</th>\n",
       "      <td>5099</td>\n",
       "      <td>200.0</td>\n",
       "      <td>Manhattan, Murray Hill</td>\n",
       "      <td>6083.333333</td>\n",
       "      <td>Large Cozy 1 BR Apartment In Midtown East</td>\n",
       "      <td>Entire home/apt</td>\n",
       "      <td>Chris</td>\n",
       "      <td>2019-06-22</td>\n",
       "    </tr>\n",
       "    <tr>\n",
       "      <th>3</th>\n",
       "      <td>5178</td>\n",
       "      <td>79.0</td>\n",
       "      <td>Manhattan, Hell's Kitchen</td>\n",
       "      <td>2402.916667</td>\n",
       "      <td>Large Furnished Room Near B'way</td>\n",
       "      <td>Private room</td>\n",
       "      <td>Shunichi</td>\n",
       "      <td>2019-06-24</td>\n",
       "    </tr>\n",
       "    <tr>\n",
       "      <th>4</th>\n",
       "      <td>5238</td>\n",
       "      <td>150.0</td>\n",
       "      <td>Manhattan, Chinatown</td>\n",
       "      <td>4562.500000</td>\n",
       "      <td>Cute &amp; Cozy Lower East Side 1 bdrm</td>\n",
       "      <td>Entire home/apt</td>\n",
       "      <td>Ben</td>\n",
       "      <td>2019-06-09</td>\n",
       "    </tr>\n",
       "    <tr>\n",
       "      <th>...</th>\n",
       "      <td>...</td>\n",
       "      <td>...</td>\n",
       "      <td>...</td>\n",
       "      <td>...</td>\n",
       "      <td>...</td>\n",
       "      <td>...</td>\n",
       "      <td>...</td>\n",
       "      <td>...</td>\n",
       "    </tr>\n",
       "    <tr>\n",
       "      <th>25204</th>\n",
       "      <td>20639628</td>\n",
       "      <td>NaN</td>\n",
       "      <td>NaN</td>\n",
       "      <td>NaN</td>\n",
       "      <td>Spacious comfortable master bedroom with nice ...</td>\n",
       "      <td>Private room</td>\n",
       "      <td>Adeyemi</td>\n",
       "      <td>2019-06-15</td>\n",
       "    </tr>\n",
       "    <tr>\n",
       "      <th>25205</th>\n",
       "      <td>20639792</td>\n",
       "      <td>NaN</td>\n",
       "      <td>NaN</td>\n",
       "      <td>NaN</td>\n",
       "      <td>Contemporary bedroom in brownstone with nice view</td>\n",
       "      <td>Private room</td>\n",
       "      <td>Adeyemi</td>\n",
       "      <td>2019-06-21</td>\n",
       "    </tr>\n",
       "    <tr>\n",
       "      <th>25206</th>\n",
       "      <td>20639914</td>\n",
       "      <td>NaN</td>\n",
       "      <td>NaN</td>\n",
       "      <td>NaN</td>\n",
       "      <td>Cozy yet spacious private brownstone bedroom</td>\n",
       "      <td>Private room</td>\n",
       "      <td>Adeyemi</td>\n",
       "      <td>2019-06-23</td>\n",
       "    </tr>\n",
       "    <tr>\n",
       "      <th>25207</th>\n",
       "      <td>21291569</td>\n",
       "      <td>NaN</td>\n",
       "      <td>NaN</td>\n",
       "      <td>NaN</td>\n",
       "      <td>Coliving in Brooklyn! Modern design / Shared room</td>\n",
       "      <td>Shared room</td>\n",
       "      <td>Sergii</td>\n",
       "      <td>2019-06-22</td>\n",
       "    </tr>\n",
       "    <tr>\n",
       "      <th>25208</th>\n",
       "      <td>21304320</td>\n",
       "      <td>NaN</td>\n",
       "      <td>NaN</td>\n",
       "      <td>NaN</td>\n",
       "      <td>Best Coliving space ever! Shared room.</td>\n",
       "      <td>Shared room</td>\n",
       "      <td>Sergii</td>\n",
       "      <td>2019-05-24</td>\n",
       "    </tr>\n",
       "  </tbody>\n",
       "</table>\n",
       "<p>25209 rows × 8 columns</p>\n",
       "</div>"
      ],
      "text/plain": [
       "       listing_id  price                nbhood_full  price_per_month  \\\n",
       "0            2595  225.0         Manhattan, Midtown      6843.750000   \n",
       "1            3831   89.0     Brooklyn, Clinton Hill      2707.083333   \n",
       "2            5099  200.0     Manhattan, Murray Hill      6083.333333   \n",
       "3            5178   79.0  Manhattan, Hell's Kitchen      2402.916667   \n",
       "4            5238  150.0       Manhattan, Chinatown      4562.500000   \n",
       "...           ...    ...                        ...              ...   \n",
       "25204    20639628    NaN                        NaN              NaN   \n",
       "25205    20639792    NaN                        NaN              NaN   \n",
       "25206    20639914    NaN                        NaN              NaN   \n",
       "25207    21291569    NaN                        NaN              NaN   \n",
       "25208    21304320    NaN                        NaN              NaN   \n",
       "\n",
       "                                             description        room_type  \\\n",
       "0                                  Skylit Midtown Castle  Entire home/apt   \n",
       "1                        Cozy Entire Floor of Brownstone  Entire home/apt   \n",
       "2              Large Cozy 1 BR Apartment In Midtown East  Entire home/apt   \n",
       "3                        Large Furnished Room Near B'way     Private room   \n",
       "4                     Cute & Cozy Lower East Side 1 bdrm  Entire home/apt   \n",
       "...                                                  ...              ...   \n",
       "25204  Spacious comfortable master bedroom with nice ...     Private room   \n",
       "25205  Contemporary bedroom in brownstone with nice view     Private room   \n",
       "25206       Cozy yet spacious private brownstone bedroom     Private room   \n",
       "25207  Coliving in Brooklyn! Modern design / Shared room      Shared room   \n",
       "25208             Best Coliving space ever! Shared room.      Shared room   \n",
       "\n",
       "         host_name last_review  \n",
       "0         Jennifer  2019-05-21  \n",
       "1      LisaRoxanne  2019-07-05  \n",
       "2            Chris  2019-06-22  \n",
       "3         Shunichi  2019-06-24  \n",
       "4              Ben  2019-06-09  \n",
       "...            ...         ...  \n",
       "25204      Adeyemi  2019-06-15  \n",
       "25205      Adeyemi  2019-06-21  \n",
       "25206      Adeyemi  2019-06-23  \n",
       "25207       Sergii  2019-06-22  \n",
       "25208       Sergii  2019-05-24  \n",
       "\n",
       "[25209 rows x 8 columns]"
      ]
     },
     "execution_count": 34,
     "metadata": {},
     "output_type": "execute_result"
    }
   ],
   "source": [
    "#merge all DataFrames into one\n",
    "airbnb_merged = reduce(lambda  left,right: pd.merge(left,right,on=['listing_id'],\n",
    "                                            how='outer'), dfs)\n",
    "\n",
    "airbnb_merged"
   ]
  },
  {
   "cell_type": "code",
   "execution_count": 35,
   "id": "004acfd4",
   "metadata": {},
   "outputs": [
    {
     "data": {
      "text/html": [
       "<div>\n",
       "<style scoped>\n",
       "    .dataframe tbody tr th:only-of-type {\n",
       "        vertical-align: middle;\n",
       "    }\n",
       "\n",
       "    .dataframe tbody tr th {\n",
       "        vertical-align: top;\n",
       "    }\n",
       "\n",
       "    .dataframe thead th {\n",
       "        text-align: right;\n",
       "    }\n",
       "</style>\n",
       "<table border=\"1\" class=\"dataframe\">\n",
       "  <thead>\n",
       "    <tr style=\"text-align: right;\">\n",
       "      <th></th>\n",
       "      <th>listing_id</th>\n",
       "      <th>price</th>\n",
       "      <th>nbhood_full</th>\n",
       "      <th>price_per_month</th>\n",
       "      <th>description</th>\n",
       "      <th>room_type</th>\n",
       "      <th>host_name</th>\n",
       "      <th>last_review</th>\n",
       "    </tr>\n",
       "  </thead>\n",
       "  <tbody>\n",
       "    <tr>\n",
       "      <th>0</th>\n",
       "      <td>2595</td>\n",
       "      <td>225.0</td>\n",
       "      <td>Manhattan, Midtown</td>\n",
       "      <td>6843.750000</td>\n",
       "      <td>Skylit Midtown Castle</td>\n",
       "      <td>Entire home/apt</td>\n",
       "      <td>Jennifer</td>\n",
       "      <td>2019-05-21</td>\n",
       "    </tr>\n",
       "    <tr>\n",
       "      <th>1</th>\n",
       "      <td>3831</td>\n",
       "      <td>89.0</td>\n",
       "      <td>Brooklyn, Clinton Hill</td>\n",
       "      <td>2707.083333</td>\n",
       "      <td>Cozy Entire Floor of Brownstone</td>\n",
       "      <td>Entire home/apt</td>\n",
       "      <td>LisaRoxanne</td>\n",
       "      <td>2019-07-05</td>\n",
       "    </tr>\n",
       "    <tr>\n",
       "      <th>2</th>\n",
       "      <td>5099</td>\n",
       "      <td>200.0</td>\n",
       "      <td>Manhattan, Murray Hill</td>\n",
       "      <td>6083.333333</td>\n",
       "      <td>Large Cozy 1 BR Apartment In Midtown East</td>\n",
       "      <td>Entire home/apt</td>\n",
       "      <td>Chris</td>\n",
       "      <td>2019-06-22</td>\n",
       "    </tr>\n",
       "    <tr>\n",
       "      <th>3</th>\n",
       "      <td>5178</td>\n",
       "      <td>79.0</td>\n",
       "      <td>Manhattan, Hell's Kitchen</td>\n",
       "      <td>2402.916667</td>\n",
       "      <td>Large Furnished Room Near B'way</td>\n",
       "      <td>Private room</td>\n",
       "      <td>Shunichi</td>\n",
       "      <td>2019-06-24</td>\n",
       "    </tr>\n",
       "    <tr>\n",
       "      <th>4</th>\n",
       "      <td>5238</td>\n",
       "      <td>150.0</td>\n",
       "      <td>Manhattan, Chinatown</td>\n",
       "      <td>4562.500000</td>\n",
       "      <td>Cute &amp; Cozy Lower East Side 1 bdrm</td>\n",
       "      <td>Entire home/apt</td>\n",
       "      <td>Ben</td>\n",
       "      <td>2019-06-09</td>\n",
       "    </tr>\n",
       "    <tr>\n",
       "      <th>...</th>\n",
       "      <td>...</td>\n",
       "      <td>...</td>\n",
       "      <td>...</td>\n",
       "      <td>...</td>\n",
       "      <td>...</td>\n",
       "      <td>...</td>\n",
       "      <td>...</td>\n",
       "      <td>...</td>\n",
       "    </tr>\n",
       "    <tr>\n",
       "      <th>25197</th>\n",
       "      <td>36425863</td>\n",
       "      <td>129.0</td>\n",
       "      <td>Manhattan, Upper East Side</td>\n",
       "      <td>3923.750000</td>\n",
       "      <td>Lovely Privet Bedroom with Privet Restroom</td>\n",
       "      <td>Private room</td>\n",
       "      <td>Rusaa</td>\n",
       "      <td>2019-07-07</td>\n",
       "    </tr>\n",
       "    <tr>\n",
       "      <th>25198</th>\n",
       "      <td>36427429</td>\n",
       "      <td>45.0</td>\n",
       "      <td>Queens, Flushing</td>\n",
       "      <td>1368.750000</td>\n",
       "      <td>No.2 with queen size bed</td>\n",
       "      <td>Private room</td>\n",
       "      <td>H Ai</td>\n",
       "      <td>2019-07-07</td>\n",
       "    </tr>\n",
       "    <tr>\n",
       "      <th>25199</th>\n",
       "      <td>36438336</td>\n",
       "      <td>235.0</td>\n",
       "      <td>Staten Island, Great Kills</td>\n",
       "      <td>7147.916667</td>\n",
       "      <td>Seas The Moment</td>\n",
       "      <td>Private room</td>\n",
       "      <td>Ben</td>\n",
       "      <td>2019-07-07</td>\n",
       "    </tr>\n",
       "    <tr>\n",
       "      <th>25200</th>\n",
       "      <td>36442252</td>\n",
       "      <td>100.0</td>\n",
       "      <td>Bronx, Mott Haven</td>\n",
       "      <td>3041.666667</td>\n",
       "      <td>1B-1B apartment near by Metro</td>\n",
       "      <td>Entire home/apt</td>\n",
       "      <td>Blaine</td>\n",
       "      <td>2019-07-07</td>\n",
       "    </tr>\n",
       "    <tr>\n",
       "      <th>25201</th>\n",
       "      <td>36455809</td>\n",
       "      <td>30.0</td>\n",
       "      <td>Brooklyn, Bushwick</td>\n",
       "      <td>912.500000</td>\n",
       "      <td>Cozy Private Room in Bushwick, Brooklyn</td>\n",
       "      <td>Private room</td>\n",
       "      <td>Christine</td>\n",
       "      <td>2019-07-08</td>\n",
       "    </tr>\n",
       "  </tbody>\n",
       "</table>\n",
       "<p>25184 rows × 8 columns</p>\n",
       "</div>"
      ],
      "text/plain": [
       "       listing_id  price                 nbhood_full  price_per_month  \\\n",
       "0            2595  225.0          Manhattan, Midtown      6843.750000   \n",
       "1            3831   89.0      Brooklyn, Clinton Hill      2707.083333   \n",
       "2            5099  200.0      Manhattan, Murray Hill      6083.333333   \n",
       "3            5178   79.0   Manhattan, Hell's Kitchen      2402.916667   \n",
       "4            5238  150.0        Manhattan, Chinatown      4562.500000   \n",
       "...           ...    ...                         ...              ...   \n",
       "25197    36425863  129.0  Manhattan, Upper East Side      3923.750000   \n",
       "25198    36427429   45.0            Queens, Flushing      1368.750000   \n",
       "25199    36438336  235.0  Staten Island, Great Kills      7147.916667   \n",
       "25200    36442252  100.0           Bronx, Mott Haven      3041.666667   \n",
       "25201    36455809   30.0          Brooklyn, Bushwick       912.500000   \n",
       "\n",
       "                                      description        room_type  \\\n",
       "0                           Skylit Midtown Castle  Entire home/apt   \n",
       "1                 Cozy Entire Floor of Brownstone  Entire home/apt   \n",
       "2       Large Cozy 1 BR Apartment In Midtown East  Entire home/apt   \n",
       "3                 Large Furnished Room Near B'way     Private room   \n",
       "4              Cute & Cozy Lower East Side 1 bdrm  Entire home/apt   \n",
       "...                                           ...              ...   \n",
       "25197  Lovely Privet Bedroom with Privet Restroom     Private room   \n",
       "25198                    No.2 with queen size bed     Private room   \n",
       "25199                             Seas The Moment     Private room   \n",
       "25200               1B-1B apartment near by Metro  Entire home/apt   \n",
       "25201     Cozy Private Room in Bushwick, Brooklyn     Private room   \n",
       "\n",
       "         host_name last_review  \n",
       "0         Jennifer  2019-05-21  \n",
       "1      LisaRoxanne  2019-07-05  \n",
       "2            Chris  2019-06-22  \n",
       "3         Shunichi  2019-06-24  \n",
       "4              Ben  2019-06-09  \n",
       "...            ...         ...  \n",
       "25197        Rusaa  2019-07-07  \n",
       "25198         H Ai  2019-07-07  \n",
       "25199          Ben  2019-07-07  \n",
       "25200       Blaine  2019-07-07  \n",
       "25201    Christine  2019-07-08  \n",
       "\n",
       "[25184 rows x 8 columns]"
      ]
     },
     "execution_count": 35,
     "metadata": {},
     "output_type": "execute_result"
    }
   ],
   "source": [
    "airbnb_merged.dropna(inplace=True)\n",
    "\n",
    "airbnb_merged"
   ]
  },
  {
   "cell_type": "code",
   "execution_count": 36,
   "id": "d1492792",
   "metadata": {},
   "outputs": [
    {
     "data": {
      "text/plain": [
       "0"
      ]
     },
     "execution_count": 36,
     "metadata": {},
     "output_type": "execute_result"
    }
   ],
   "source": [
    "#Identify duplicate values \n",
    "airbnb_merged.duplicated().sum()"
   ]
  },
  {
   "cell_type": "code",
   "execution_count": 37,
   "id": "7048aea5",
   "metadata": {},
   "outputs": [],
   "source": [
    "#merge the three DataFrames to make any future analysis easier to conduct. Once we have joined the data, \n",
    "#we will remove any observations with missing values and check for duplicates.\n",
    "\n",
    "# Merge prices and room_types to create rooms_and_prices\n",
    "rooms_and_prices = prices.merge(room_types, how=\"outer\", on=\"listing_id\")"
   ]
  },
  {
   "cell_type": "code",
   "execution_count": 38,
   "id": "9e206a13",
   "metadata": {},
   "outputs": [],
   "source": [
    "# Merge rooms_and_prices with the reviews DataFrame to create airbnb_merged\n",
    "airbnb_merged1 = rooms_and_prices.merge(reviews, how=\"outer\", on=\"listing_id\")"
   ]
  },
  {
   "cell_type": "code",
   "execution_count": 39,
   "id": "dd6d7601",
   "metadata": {},
   "outputs": [
    {
     "data": {
      "text/html": [
       "<div>\n",
       "<style scoped>\n",
       "    .dataframe tbody tr th:only-of-type {\n",
       "        vertical-align: middle;\n",
       "    }\n",
       "\n",
       "    .dataframe tbody tr th {\n",
       "        vertical-align: top;\n",
       "    }\n",
       "\n",
       "    .dataframe thead th {\n",
       "        text-align: right;\n",
       "    }\n",
       "</style>\n",
       "<table border=\"1\" class=\"dataframe\">\n",
       "  <thead>\n",
       "    <tr style=\"text-align: right;\">\n",
       "      <th></th>\n",
       "      <th>listing_id</th>\n",
       "      <th>price</th>\n",
       "      <th>nbhood_full</th>\n",
       "      <th>price_per_month</th>\n",
       "      <th>description</th>\n",
       "      <th>room_type</th>\n",
       "      <th>host_name</th>\n",
       "      <th>last_review</th>\n",
       "    </tr>\n",
       "  </thead>\n",
       "  <tbody>\n",
       "    <tr>\n",
       "      <th>0</th>\n",
       "      <td>2595</td>\n",
       "      <td>225.0</td>\n",
       "      <td>Manhattan, Midtown</td>\n",
       "      <td>6843.750000</td>\n",
       "      <td>Skylit Midtown Castle</td>\n",
       "      <td>Entire home/apt</td>\n",
       "      <td>Jennifer</td>\n",
       "      <td>2019-05-21</td>\n",
       "    </tr>\n",
       "    <tr>\n",
       "      <th>1</th>\n",
       "      <td>3831</td>\n",
       "      <td>89.0</td>\n",
       "      <td>Brooklyn, Clinton Hill</td>\n",
       "      <td>2707.083333</td>\n",
       "      <td>Cozy Entire Floor of Brownstone</td>\n",
       "      <td>Entire home/apt</td>\n",
       "      <td>LisaRoxanne</td>\n",
       "      <td>2019-07-05</td>\n",
       "    </tr>\n",
       "    <tr>\n",
       "      <th>2</th>\n",
       "      <td>5099</td>\n",
       "      <td>200.0</td>\n",
       "      <td>Manhattan, Murray Hill</td>\n",
       "      <td>6083.333333</td>\n",
       "      <td>Large Cozy 1 BR Apartment In Midtown East</td>\n",
       "      <td>Entire home/apt</td>\n",
       "      <td>Chris</td>\n",
       "      <td>2019-06-22</td>\n",
       "    </tr>\n",
       "    <tr>\n",
       "      <th>3</th>\n",
       "      <td>5178</td>\n",
       "      <td>79.0</td>\n",
       "      <td>Manhattan, Hell's Kitchen</td>\n",
       "      <td>2402.916667</td>\n",
       "      <td>Large Furnished Room Near B'way</td>\n",
       "      <td>Private room</td>\n",
       "      <td>Shunichi</td>\n",
       "      <td>2019-06-24</td>\n",
       "    </tr>\n",
       "    <tr>\n",
       "      <th>4</th>\n",
       "      <td>5238</td>\n",
       "      <td>150.0</td>\n",
       "      <td>Manhattan, Chinatown</td>\n",
       "      <td>4562.500000</td>\n",
       "      <td>Cute &amp; Cozy Lower East Side 1 bdrm</td>\n",
       "      <td>Entire home/apt</td>\n",
       "      <td>Ben</td>\n",
       "      <td>2019-06-09</td>\n",
       "    </tr>\n",
       "    <tr>\n",
       "      <th>...</th>\n",
       "      <td>...</td>\n",
       "      <td>...</td>\n",
       "      <td>...</td>\n",
       "      <td>...</td>\n",
       "      <td>...</td>\n",
       "      <td>...</td>\n",
       "      <td>...</td>\n",
       "      <td>...</td>\n",
       "    </tr>\n",
       "    <tr>\n",
       "      <th>25204</th>\n",
       "      <td>20639628</td>\n",
       "      <td>NaN</td>\n",
       "      <td>NaN</td>\n",
       "      <td>NaN</td>\n",
       "      <td>Spacious comfortable master bedroom with nice ...</td>\n",
       "      <td>Private room</td>\n",
       "      <td>Adeyemi</td>\n",
       "      <td>2019-06-15</td>\n",
       "    </tr>\n",
       "    <tr>\n",
       "      <th>25205</th>\n",
       "      <td>20639792</td>\n",
       "      <td>NaN</td>\n",
       "      <td>NaN</td>\n",
       "      <td>NaN</td>\n",
       "      <td>Contemporary bedroom in brownstone with nice view</td>\n",
       "      <td>Private room</td>\n",
       "      <td>Adeyemi</td>\n",
       "      <td>2019-06-21</td>\n",
       "    </tr>\n",
       "    <tr>\n",
       "      <th>25206</th>\n",
       "      <td>20639914</td>\n",
       "      <td>NaN</td>\n",
       "      <td>NaN</td>\n",
       "      <td>NaN</td>\n",
       "      <td>Cozy yet spacious private brownstone bedroom</td>\n",
       "      <td>Private room</td>\n",
       "      <td>Adeyemi</td>\n",
       "      <td>2019-06-23</td>\n",
       "    </tr>\n",
       "    <tr>\n",
       "      <th>25207</th>\n",
       "      <td>21291569</td>\n",
       "      <td>NaN</td>\n",
       "      <td>NaN</td>\n",
       "      <td>NaN</td>\n",
       "      <td>Coliving in Brooklyn! Modern design / Shared room</td>\n",
       "      <td>Shared room</td>\n",
       "      <td>Sergii</td>\n",
       "      <td>2019-06-22</td>\n",
       "    </tr>\n",
       "    <tr>\n",
       "      <th>25208</th>\n",
       "      <td>21304320</td>\n",
       "      <td>NaN</td>\n",
       "      <td>NaN</td>\n",
       "      <td>NaN</td>\n",
       "      <td>Best Coliving space ever! Shared room.</td>\n",
       "      <td>Shared room</td>\n",
       "      <td>Sergii</td>\n",
       "      <td>2019-05-24</td>\n",
       "    </tr>\n",
       "  </tbody>\n",
       "</table>\n",
       "<p>25209 rows × 8 columns</p>\n",
       "</div>"
      ],
      "text/plain": [
       "       listing_id  price                nbhood_full  price_per_month  \\\n",
       "0            2595  225.0         Manhattan, Midtown      6843.750000   \n",
       "1            3831   89.0     Brooklyn, Clinton Hill      2707.083333   \n",
       "2            5099  200.0     Manhattan, Murray Hill      6083.333333   \n",
       "3            5178   79.0  Manhattan, Hell's Kitchen      2402.916667   \n",
       "4            5238  150.0       Manhattan, Chinatown      4562.500000   \n",
       "...           ...    ...                        ...              ...   \n",
       "25204    20639628    NaN                        NaN              NaN   \n",
       "25205    20639792    NaN                        NaN              NaN   \n",
       "25206    20639914    NaN                        NaN              NaN   \n",
       "25207    21291569    NaN                        NaN              NaN   \n",
       "25208    21304320    NaN                        NaN              NaN   \n",
       "\n",
       "                                             description        room_type  \\\n",
       "0                                  Skylit Midtown Castle  Entire home/apt   \n",
       "1                        Cozy Entire Floor of Brownstone  Entire home/apt   \n",
       "2              Large Cozy 1 BR Apartment In Midtown East  Entire home/apt   \n",
       "3                        Large Furnished Room Near B'way     Private room   \n",
       "4                     Cute & Cozy Lower East Side 1 bdrm  Entire home/apt   \n",
       "...                                                  ...              ...   \n",
       "25204  Spacious comfortable master bedroom with nice ...     Private room   \n",
       "25205  Contemporary bedroom in brownstone with nice view     Private room   \n",
       "25206       Cozy yet spacious private brownstone bedroom     Private room   \n",
       "25207  Coliving in Brooklyn! Modern design / Shared room      Shared room   \n",
       "25208             Best Coliving space ever! Shared room.      Shared room   \n",
       "\n",
       "         host_name last_review  \n",
       "0         Jennifer  2019-05-21  \n",
       "1      LisaRoxanne  2019-07-05  \n",
       "2            Chris  2019-06-22  \n",
       "3         Shunichi  2019-06-24  \n",
       "4              Ben  2019-06-09  \n",
       "...            ...         ...  \n",
       "25204      Adeyemi  2019-06-15  \n",
       "25205      Adeyemi  2019-06-21  \n",
       "25206      Adeyemi  2019-06-23  \n",
       "25207       Sergii  2019-06-22  \n",
       "25208       Sergii  2019-05-24  \n",
       "\n",
       "[25209 rows x 8 columns]"
      ]
     },
     "execution_count": 39,
     "metadata": {},
     "output_type": "execute_result"
    }
   ],
   "source": [
    "airbnb_merged1 "
   ]
  },
  {
   "cell_type": "code",
   "execution_count": 40,
   "id": "b99065e9",
   "metadata": {},
   "outputs": [],
   "source": [
    "airbnb_merged1.dropna(inplace=True)"
   ]
  },
  {
   "cell_type": "code",
   "execution_count": 41,
   "id": "3c9841eb",
   "metadata": {},
   "outputs": [
    {
     "data": {
      "text/html": [
       "<div>\n",
       "<style scoped>\n",
       "    .dataframe tbody tr th:only-of-type {\n",
       "        vertical-align: middle;\n",
       "    }\n",
       "\n",
       "    .dataframe tbody tr th {\n",
       "        vertical-align: top;\n",
       "    }\n",
       "\n",
       "    .dataframe thead th {\n",
       "        text-align: right;\n",
       "    }\n",
       "</style>\n",
       "<table border=\"1\" class=\"dataframe\">\n",
       "  <thead>\n",
       "    <tr style=\"text-align: right;\">\n",
       "      <th></th>\n",
       "      <th>listing_id</th>\n",
       "      <th>price</th>\n",
       "      <th>nbhood_full</th>\n",
       "      <th>price_per_month</th>\n",
       "      <th>description</th>\n",
       "      <th>room_type</th>\n",
       "      <th>host_name</th>\n",
       "      <th>last_review</th>\n",
       "    </tr>\n",
       "  </thead>\n",
       "  <tbody>\n",
       "    <tr>\n",
       "      <th>0</th>\n",
       "      <td>2595</td>\n",
       "      <td>225.0</td>\n",
       "      <td>Manhattan, Midtown</td>\n",
       "      <td>6843.750000</td>\n",
       "      <td>Skylit Midtown Castle</td>\n",
       "      <td>Entire home/apt</td>\n",
       "      <td>Jennifer</td>\n",
       "      <td>2019-05-21</td>\n",
       "    </tr>\n",
       "    <tr>\n",
       "      <th>1</th>\n",
       "      <td>3831</td>\n",
       "      <td>89.0</td>\n",
       "      <td>Brooklyn, Clinton Hill</td>\n",
       "      <td>2707.083333</td>\n",
       "      <td>Cozy Entire Floor of Brownstone</td>\n",
       "      <td>Entire home/apt</td>\n",
       "      <td>LisaRoxanne</td>\n",
       "      <td>2019-07-05</td>\n",
       "    </tr>\n",
       "    <tr>\n",
       "      <th>2</th>\n",
       "      <td>5099</td>\n",
       "      <td>200.0</td>\n",
       "      <td>Manhattan, Murray Hill</td>\n",
       "      <td>6083.333333</td>\n",
       "      <td>Large Cozy 1 BR Apartment In Midtown East</td>\n",
       "      <td>Entire home/apt</td>\n",
       "      <td>Chris</td>\n",
       "      <td>2019-06-22</td>\n",
       "    </tr>\n",
       "    <tr>\n",
       "      <th>3</th>\n",
       "      <td>5178</td>\n",
       "      <td>79.0</td>\n",
       "      <td>Manhattan, Hell's Kitchen</td>\n",
       "      <td>2402.916667</td>\n",
       "      <td>Large Furnished Room Near B'way</td>\n",
       "      <td>Private room</td>\n",
       "      <td>Shunichi</td>\n",
       "      <td>2019-06-24</td>\n",
       "    </tr>\n",
       "    <tr>\n",
       "      <th>4</th>\n",
       "      <td>5238</td>\n",
       "      <td>150.0</td>\n",
       "      <td>Manhattan, Chinatown</td>\n",
       "      <td>4562.500000</td>\n",
       "      <td>Cute &amp; Cozy Lower East Side 1 bdrm</td>\n",
       "      <td>Entire home/apt</td>\n",
       "      <td>Ben</td>\n",
       "      <td>2019-06-09</td>\n",
       "    </tr>\n",
       "    <tr>\n",
       "      <th>...</th>\n",
       "      <td>...</td>\n",
       "      <td>...</td>\n",
       "      <td>...</td>\n",
       "      <td>...</td>\n",
       "      <td>...</td>\n",
       "      <td>...</td>\n",
       "      <td>...</td>\n",
       "      <td>...</td>\n",
       "    </tr>\n",
       "    <tr>\n",
       "      <th>25197</th>\n",
       "      <td>36425863</td>\n",
       "      <td>129.0</td>\n",
       "      <td>Manhattan, Upper East Side</td>\n",
       "      <td>3923.750000</td>\n",
       "      <td>Lovely Privet Bedroom with Privet Restroom</td>\n",
       "      <td>Private room</td>\n",
       "      <td>Rusaa</td>\n",
       "      <td>2019-07-07</td>\n",
       "    </tr>\n",
       "    <tr>\n",
       "      <th>25198</th>\n",
       "      <td>36427429</td>\n",
       "      <td>45.0</td>\n",
       "      <td>Queens, Flushing</td>\n",
       "      <td>1368.750000</td>\n",
       "      <td>No.2 with queen size bed</td>\n",
       "      <td>Private room</td>\n",
       "      <td>H Ai</td>\n",
       "      <td>2019-07-07</td>\n",
       "    </tr>\n",
       "    <tr>\n",
       "      <th>25199</th>\n",
       "      <td>36438336</td>\n",
       "      <td>235.0</td>\n",
       "      <td>Staten Island, Great Kills</td>\n",
       "      <td>7147.916667</td>\n",
       "      <td>Seas The Moment</td>\n",
       "      <td>Private room</td>\n",
       "      <td>Ben</td>\n",
       "      <td>2019-07-07</td>\n",
       "    </tr>\n",
       "    <tr>\n",
       "      <th>25200</th>\n",
       "      <td>36442252</td>\n",
       "      <td>100.0</td>\n",
       "      <td>Bronx, Mott Haven</td>\n",
       "      <td>3041.666667</td>\n",
       "      <td>1B-1B apartment near by Metro</td>\n",
       "      <td>Entire home/apt</td>\n",
       "      <td>Blaine</td>\n",
       "      <td>2019-07-07</td>\n",
       "    </tr>\n",
       "    <tr>\n",
       "      <th>25201</th>\n",
       "      <td>36455809</td>\n",
       "      <td>30.0</td>\n",
       "      <td>Brooklyn, Bushwick</td>\n",
       "      <td>912.500000</td>\n",
       "      <td>Cozy Private Room in Bushwick, Brooklyn</td>\n",
       "      <td>Private room</td>\n",
       "      <td>Christine</td>\n",
       "      <td>2019-07-08</td>\n",
       "    </tr>\n",
       "  </tbody>\n",
       "</table>\n",
       "<p>25184 rows × 8 columns</p>\n",
       "</div>"
      ],
      "text/plain": [
       "       listing_id  price                 nbhood_full  price_per_month  \\\n",
       "0            2595  225.0          Manhattan, Midtown      6843.750000   \n",
       "1            3831   89.0      Brooklyn, Clinton Hill      2707.083333   \n",
       "2            5099  200.0      Manhattan, Murray Hill      6083.333333   \n",
       "3            5178   79.0   Manhattan, Hell's Kitchen      2402.916667   \n",
       "4            5238  150.0        Manhattan, Chinatown      4562.500000   \n",
       "...           ...    ...                         ...              ...   \n",
       "25197    36425863  129.0  Manhattan, Upper East Side      3923.750000   \n",
       "25198    36427429   45.0            Queens, Flushing      1368.750000   \n",
       "25199    36438336  235.0  Staten Island, Great Kills      7147.916667   \n",
       "25200    36442252  100.0           Bronx, Mott Haven      3041.666667   \n",
       "25201    36455809   30.0          Brooklyn, Bushwick       912.500000   \n",
       "\n",
       "                                      description        room_type  \\\n",
       "0                           Skylit Midtown Castle  Entire home/apt   \n",
       "1                 Cozy Entire Floor of Brownstone  Entire home/apt   \n",
       "2       Large Cozy 1 BR Apartment In Midtown East  Entire home/apt   \n",
       "3                 Large Furnished Room Near B'way     Private room   \n",
       "4              Cute & Cozy Lower East Side 1 bdrm  Entire home/apt   \n",
       "...                                           ...              ...   \n",
       "25197  Lovely Privet Bedroom with Privet Restroom     Private room   \n",
       "25198                    No.2 with queen size bed     Private room   \n",
       "25199                             Seas The Moment     Private room   \n",
       "25200               1B-1B apartment near by Metro  Entire home/apt   \n",
       "25201     Cozy Private Room in Bushwick, Brooklyn     Private room   \n",
       "\n",
       "         host_name last_review  \n",
       "0         Jennifer  2019-05-21  \n",
       "1      LisaRoxanne  2019-07-05  \n",
       "2            Chris  2019-06-22  \n",
       "3         Shunichi  2019-06-24  \n",
       "4              Ben  2019-06-09  \n",
       "...            ...         ...  \n",
       "25197        Rusaa  2019-07-07  \n",
       "25198         H Ai  2019-07-07  \n",
       "25199          Ben  2019-07-07  \n",
       "25200       Blaine  2019-07-07  \n",
       "25201    Christine  2019-07-08  \n",
       "\n",
       "[25184 rows x 8 columns]"
      ]
     },
     "execution_count": 41,
     "metadata": {},
     "output_type": "execute_result"
    }
   ],
   "source": [
    "airbnb_merged1"
   ]
  },
  {
   "cell_type": "code",
   "execution_count": 42,
   "id": "6b2cca12",
   "metadata": {},
   "outputs": [
    {
     "data": {
      "text/plain": [
       "0"
      ]
     },
     "execution_count": 42,
     "metadata": {},
     "output_type": "execute_result"
    }
   ],
   "source": [
    "#Identify duplicate values \n",
    "airbnb_merged1.duplicated().sum()"
   ]
  },
  {
   "cell_type": "markdown",
   "id": "e7449329",
   "metadata": {},
   "source": [
    "6.Analyzing listing prices by NYC borough"
   ]
  },
  {
   "cell_type": "code",
   "execution_count": 43,
   "id": "853c2ff2",
   "metadata": {},
   "outputs": [
    {
     "data": {
      "text/plain": [
       "0            Manhattan\n",
       "1             Brooklyn\n",
       "2            Manhattan\n",
       "3            Manhattan\n",
       "4            Manhattan\n",
       "             ...      \n",
       "25197        Manhattan\n",
       "25198           Queens\n",
       "25199    Staten Island\n",
       "25200            Bronx\n",
       "25201         Brooklyn\n",
       "Name: borough, Length: 25184, dtype: object"
      ]
     },
     "execution_count": 43,
     "metadata": {},
     "output_type": "execute_result"
    }
   ],
   "source": [
    "# Extract information from the nbhood_full column and store as a new column, borough\n",
    "airbnb_merged[\"borough\"] = airbnb_merged[\"nbhood_full\"].str.partition(\",\")[0]\n",
    "\n",
    "airbnb_merged[\"borough\"]"
   ]
  },
  {
   "cell_type": "code",
   "execution_count": 44,
   "id": "0fce43e2",
   "metadata": {},
   "outputs": [
    {
     "name": "stdout",
     "output_type": "stream",
     "text": [
      "         borough        sum    mean  median  count\n",
      "0      Manhattan  1898417.0  184.04   149.0  10315\n",
      "1       Brooklyn  1275250.0  122.02    95.0  10451\n",
      "2         Queens   320715.0   92.83    70.0   3455\n",
      "3  Staten Island    22974.0   86.04    71.0    267\n",
      "4          Bronx    55156.0   79.25    65.0    696\n"
     ]
    }
   ],
   "source": [
    "# Grouping by 'borough' and calculating summary statistics\n",
    "borough = airbnb_merged.groupby('borough')['price'].agg(['sum', 'mean', 'median', 'count'])\n",
    "\n",
    "# Round boroughs to 2 decimal places, and sort by mean in descending orde\n",
    "borough = borough.round(2).sort_values('mean',ascending = False).reset_index()\n",
    "\n",
    "borough =pd.DataFrame(borough)\n",
    "\n",
    "print(borough)"
   ]
  },
  {
   "cell_type": "markdown",
   "id": "ee98b448",
   "metadata": {},
   "source": [
    "7. Price range by borough"
   ]
  },
  {
   "cell_type": "code",
   "execution_count": 45,
   "id": "f0c83a7b",
   "metadata": {},
   "outputs": [
    {
     "data": {
      "text/html": [
       "<div>\n",
       "<style scoped>\n",
       "    .dataframe tbody tr th:only-of-type {\n",
       "        vertical-align: middle;\n",
       "    }\n",
       "\n",
       "    .dataframe tbody tr th {\n",
       "        vertical-align: top;\n",
       "    }\n",
       "\n",
       "    .dataframe thead th {\n",
       "        text-align: right;\n",
       "    }\n",
       "</style>\n",
       "<table border=\"1\" class=\"dataframe\">\n",
       "  <thead>\n",
       "    <tr style=\"text-align: right;\">\n",
       "      <th></th>\n",
       "      <th>listing_id</th>\n",
       "      <th>price</th>\n",
       "      <th>nbhood_full</th>\n",
       "      <th>price_per_month</th>\n",
       "      <th>description</th>\n",
       "      <th>room_type</th>\n",
       "      <th>host_name</th>\n",
       "      <th>last_review</th>\n",
       "      <th>borough</th>\n",
       "      <th>Price_Range</th>\n",
       "    </tr>\n",
       "  </thead>\n",
       "  <tbody>\n",
       "    <tr>\n",
       "      <th>0</th>\n",
       "      <td>2595</td>\n",
       "      <td>225.0</td>\n",
       "      <td>Manhattan, Midtown</td>\n",
       "      <td>6843.750000</td>\n",
       "      <td>Skylit Midtown Castle</td>\n",
       "      <td>Entire home/apt</td>\n",
       "      <td>Jennifer</td>\n",
       "      <td>2019-05-21</td>\n",
       "      <td>Manhattan</td>\n",
       "      <td>Expensive</td>\n",
       "    </tr>\n",
       "    <tr>\n",
       "      <th>1</th>\n",
       "      <td>3831</td>\n",
       "      <td>89.0</td>\n",
       "      <td>Brooklyn, Clinton Hill</td>\n",
       "      <td>2707.083333</td>\n",
       "      <td>Cozy Entire Floor of Brownstone</td>\n",
       "      <td>Entire home/apt</td>\n",
       "      <td>LisaRoxanne</td>\n",
       "      <td>2019-07-05</td>\n",
       "      <td>Brooklyn</td>\n",
       "      <td>Average</td>\n",
       "    </tr>\n",
       "    <tr>\n",
       "      <th>2</th>\n",
       "      <td>5099</td>\n",
       "      <td>200.0</td>\n",
       "      <td>Manhattan, Murray Hill</td>\n",
       "      <td>6083.333333</td>\n",
       "      <td>Large Cozy 1 BR Apartment In Midtown East</td>\n",
       "      <td>Entire home/apt</td>\n",
       "      <td>Chris</td>\n",
       "      <td>2019-06-22</td>\n",
       "      <td>Manhattan</td>\n",
       "      <td>Expensive</td>\n",
       "    </tr>\n",
       "    <tr>\n",
       "      <th>3</th>\n",
       "      <td>5178</td>\n",
       "      <td>79.0</td>\n",
       "      <td>Manhattan, Hell's Kitchen</td>\n",
       "      <td>2402.916667</td>\n",
       "      <td>Large Furnished Room Near B'way</td>\n",
       "      <td>Private room</td>\n",
       "      <td>Shunichi</td>\n",
       "      <td>2019-06-24</td>\n",
       "      <td>Manhattan</td>\n",
       "      <td>Average</td>\n",
       "    </tr>\n",
       "    <tr>\n",
       "      <th>4</th>\n",
       "      <td>5238</td>\n",
       "      <td>150.0</td>\n",
       "      <td>Manhattan, Chinatown</td>\n",
       "      <td>4562.500000</td>\n",
       "      <td>Cute &amp; Cozy Lower East Side 1 bdrm</td>\n",
       "      <td>Entire home/apt</td>\n",
       "      <td>Ben</td>\n",
       "      <td>2019-06-09</td>\n",
       "      <td>Manhattan</td>\n",
       "      <td>Average</td>\n",
       "    </tr>\n",
       "    <tr>\n",
       "      <th>...</th>\n",
       "      <td>...</td>\n",
       "      <td>...</td>\n",
       "      <td>...</td>\n",
       "      <td>...</td>\n",
       "      <td>...</td>\n",
       "      <td>...</td>\n",
       "      <td>...</td>\n",
       "      <td>...</td>\n",
       "      <td>...</td>\n",
       "      <td>...</td>\n",
       "    </tr>\n",
       "    <tr>\n",
       "      <th>25197</th>\n",
       "      <td>36425863</td>\n",
       "      <td>129.0</td>\n",
       "      <td>Manhattan, Upper East Side</td>\n",
       "      <td>3923.750000</td>\n",
       "      <td>Lovely Privet Bedroom with Privet Restroom</td>\n",
       "      <td>Private room</td>\n",
       "      <td>Rusaa</td>\n",
       "      <td>2019-07-07</td>\n",
       "      <td>Manhattan</td>\n",
       "      <td>Average</td>\n",
       "    </tr>\n",
       "    <tr>\n",
       "      <th>25198</th>\n",
       "      <td>36427429</td>\n",
       "      <td>45.0</td>\n",
       "      <td>Queens, Flushing</td>\n",
       "      <td>1368.750000</td>\n",
       "      <td>No.2 with queen size bed</td>\n",
       "      <td>Private room</td>\n",
       "      <td>H Ai</td>\n",
       "      <td>2019-07-07</td>\n",
       "      <td>Queens</td>\n",
       "      <td>Budget</td>\n",
       "    </tr>\n",
       "    <tr>\n",
       "      <th>25199</th>\n",
       "      <td>36438336</td>\n",
       "      <td>235.0</td>\n",
       "      <td>Staten Island, Great Kills</td>\n",
       "      <td>7147.916667</td>\n",
       "      <td>Seas The Moment</td>\n",
       "      <td>Private room</td>\n",
       "      <td>Ben</td>\n",
       "      <td>2019-07-07</td>\n",
       "      <td>Staten Island</td>\n",
       "      <td>Expensive</td>\n",
       "    </tr>\n",
       "    <tr>\n",
       "      <th>25200</th>\n",
       "      <td>36442252</td>\n",
       "      <td>100.0</td>\n",
       "      <td>Bronx, Mott Haven</td>\n",
       "      <td>3041.666667</td>\n",
       "      <td>1B-1B apartment near by Metro</td>\n",
       "      <td>Entire home/apt</td>\n",
       "      <td>Blaine</td>\n",
       "      <td>2019-07-07</td>\n",
       "      <td>Bronx</td>\n",
       "      <td>Average</td>\n",
       "    </tr>\n",
       "    <tr>\n",
       "      <th>25201</th>\n",
       "      <td>36455809</td>\n",
       "      <td>30.0</td>\n",
       "      <td>Brooklyn, Bushwick</td>\n",
       "      <td>912.500000</td>\n",
       "      <td>Cozy Private Room in Bushwick, Brooklyn</td>\n",
       "      <td>Private room</td>\n",
       "      <td>Christine</td>\n",
       "      <td>2019-07-08</td>\n",
       "      <td>Brooklyn</td>\n",
       "      <td>Budget</td>\n",
       "    </tr>\n",
       "  </tbody>\n",
       "</table>\n",
       "<p>25184 rows × 10 columns</p>\n",
       "</div>"
      ],
      "text/plain": [
       "       listing_id  price                 nbhood_full  price_per_month  \\\n",
       "0            2595  225.0          Manhattan, Midtown      6843.750000   \n",
       "1            3831   89.0      Brooklyn, Clinton Hill      2707.083333   \n",
       "2            5099  200.0      Manhattan, Murray Hill      6083.333333   \n",
       "3            5178   79.0   Manhattan, Hell's Kitchen      2402.916667   \n",
       "4            5238  150.0        Manhattan, Chinatown      4562.500000   \n",
       "...           ...    ...                         ...              ...   \n",
       "25197    36425863  129.0  Manhattan, Upper East Side      3923.750000   \n",
       "25198    36427429   45.0            Queens, Flushing      1368.750000   \n",
       "25199    36438336  235.0  Staten Island, Great Kills      7147.916667   \n",
       "25200    36442252  100.0           Bronx, Mott Haven      3041.666667   \n",
       "25201    36455809   30.0          Brooklyn, Bushwick       912.500000   \n",
       "\n",
       "                                      description        room_type  \\\n",
       "0                           Skylit Midtown Castle  Entire home/apt   \n",
       "1                 Cozy Entire Floor of Brownstone  Entire home/apt   \n",
       "2       Large Cozy 1 BR Apartment In Midtown East  Entire home/apt   \n",
       "3                 Large Furnished Room Near B'way     Private room   \n",
       "4              Cute & Cozy Lower East Side 1 bdrm  Entire home/apt   \n",
       "...                                           ...              ...   \n",
       "25197  Lovely Privet Bedroom with Privet Restroom     Private room   \n",
       "25198                    No.2 with queen size bed     Private room   \n",
       "25199                             Seas The Moment     Private room   \n",
       "25200               1B-1B apartment near by Metro  Entire home/apt   \n",
       "25201     Cozy Private Room in Bushwick, Brooklyn     Private room   \n",
       "\n",
       "         host_name last_review        borough Price_Range  \n",
       "0         Jennifer  2019-05-21      Manhattan   Expensive  \n",
       "1      LisaRoxanne  2019-07-05       Brooklyn     Average  \n",
       "2            Chris  2019-06-22      Manhattan   Expensive  \n",
       "3         Shunichi  2019-06-24      Manhattan     Average  \n",
       "4              Ben  2019-06-09      Manhattan     Average  \n",
       "...            ...         ...            ...         ...  \n",
       "25197        Rusaa  2019-07-07      Manhattan     Average  \n",
       "25198         H Ai  2019-07-07         Queens      Budget  \n",
       "25199          Ben  2019-07-07  Staten Island   Expensive  \n",
       "25200       Blaine  2019-07-07          Bronx     Average  \n",
       "25201    Christine  2019-07-08       Brooklyn      Budget  \n",
       "\n",
       "[25184 rows x 10 columns]"
      ]
     },
     "execution_count": 45,
     "metadata": {},
     "output_type": "execute_result"
    }
   ],
   "source": [
    "#Using cut() - create category ranges and names\n",
    "ranges = [0,69,175,350,np.inf]\n",
    "group_names = ['Budget', 'Average', 'Expensive','Extravagant']\n",
    "# Create Price Range column\n",
    "airbnb_merged['Price_Range'] = pd.cut(airbnb_merged['price'], bins=ranges,\n",
    "labels=group_names)\n",
    "airbnb_merged"
   ]
  },
  {
   "cell_type": "code",
   "execution_count": 58,
   "id": "1991e556",
   "metadata": {},
   "outputs": [],
   "source": [
    "# Calculate occurence frequencies for each label, Prices_by_borough\n",
    "Prices_by_borough = airbnb_merged.groupby([\"borough\", \"Price_Range\"])[\"Price_Range\"].agg(\"count\")\n"
   ]
  },
  {
   "cell_type": "code",
   "execution_count": 60,
   "id": "011c33bd",
   "metadata": {},
   "outputs": [
    {
     "data": {
      "text/html": [
       "<div>\n",
       "<style scoped>\n",
       "    .dataframe tbody tr th:only-of-type {\n",
       "        vertical-align: middle;\n",
       "    }\n",
       "\n",
       "    .dataframe tbody tr th {\n",
       "        vertical-align: top;\n",
       "    }\n",
       "\n",
       "    .dataframe thead th {\n",
       "        text-align: right;\n",
       "    }\n",
       "</style>\n",
       "<table border=\"1\" class=\"dataframe\">\n",
       "  <thead>\n",
       "    <tr style=\"text-align: right;\">\n",
       "      <th></th>\n",
       "      <th></th>\n",
       "      <th>Price_Range</th>\n",
       "    </tr>\n",
       "    <tr>\n",
       "      <th>borough</th>\n",
       "      <th>Price_Range</th>\n",
       "      <th></th>\n",
       "    </tr>\n",
       "  </thead>\n",
       "  <tbody>\n",
       "    <tr>\n",
       "      <th rowspan=\"4\" valign=\"top\">Bronx</th>\n",
       "      <th>Budget</th>\n",
       "      <td>381</td>\n",
       "    </tr>\n",
       "    <tr>\n",
       "      <th>Average</th>\n",
       "      <td>285</td>\n",
       "    </tr>\n",
       "    <tr>\n",
       "      <th>Expensive</th>\n",
       "      <td>25</td>\n",
       "    </tr>\n",
       "    <tr>\n",
       "      <th>Extravagant</th>\n",
       "      <td>5</td>\n",
       "    </tr>\n",
       "    <tr>\n",
       "      <th rowspan=\"4\" valign=\"top\">Brooklyn</th>\n",
       "      <th>Budget</th>\n",
       "      <td>3194</td>\n",
       "    </tr>\n",
       "    <tr>\n",
       "      <th>Average</th>\n",
       "      <td>5532</td>\n",
       "    </tr>\n",
       "    <tr>\n",
       "      <th>Expensive</th>\n",
       "      <td>1466</td>\n",
       "    </tr>\n",
       "    <tr>\n",
       "      <th>Extravagant</th>\n",
       "      <td>259</td>\n",
       "    </tr>\n",
       "    <tr>\n",
       "      <th rowspan=\"4\" valign=\"top\">Manhattan</th>\n",
       "      <th>Budget</th>\n",
       "      <td>1148</td>\n",
       "    </tr>\n",
       "    <tr>\n",
       "      <th>Average</th>\n",
       "      <td>5285</td>\n",
       "    </tr>\n",
       "    <tr>\n",
       "      <th>Expensive</th>\n",
       "      <td>3072</td>\n",
       "    </tr>\n",
       "    <tr>\n",
       "      <th>Extravagant</th>\n",
       "      <td>810</td>\n",
       "    </tr>\n",
       "    <tr>\n",
       "      <th rowspan=\"4\" valign=\"top\">Queens</th>\n",
       "      <th>Budget</th>\n",
       "      <td>1631</td>\n",
       "    </tr>\n",
       "    <tr>\n",
       "      <th>Average</th>\n",
       "      <td>1505</td>\n",
       "    </tr>\n",
       "    <tr>\n",
       "      <th>Expensive</th>\n",
       "      <td>291</td>\n",
       "    </tr>\n",
       "    <tr>\n",
       "      <th>Extravagant</th>\n",
       "      <td>28</td>\n",
       "    </tr>\n",
       "    <tr>\n",
       "      <th rowspan=\"4\" valign=\"top\">Staten Island</th>\n",
       "      <th>Budget</th>\n",
       "      <td>124</td>\n",
       "    </tr>\n",
       "    <tr>\n",
       "      <th>Average</th>\n",
       "      <td>123</td>\n",
       "    </tr>\n",
       "    <tr>\n",
       "      <th>Expensive</th>\n",
       "      <td>20</td>\n",
       "    </tr>\n",
       "    <tr>\n",
       "      <th>Extravagant</th>\n",
       "      <td>0</td>\n",
       "    </tr>\n",
       "  </tbody>\n",
       "</table>\n",
       "</div>"
      ],
      "text/plain": [
       "                           Price_Range\n",
       "borough       Price_Range             \n",
       "Bronx         Budget               381\n",
       "              Average              285\n",
       "              Expensive             25\n",
       "              Extravagant            5\n",
       "Brooklyn      Budget              3194\n",
       "              Average             5532\n",
       "              Expensive           1466\n",
       "              Extravagant          259\n",
       "Manhattan     Budget              1148\n",
       "              Average             5285\n",
       "              Expensive           3072\n",
       "              Extravagant          810\n",
       "Queens        Budget              1631\n",
       "              Average             1505\n",
       "              Expensive            291\n",
       "              Extravagant           28\n",
       "Staten Island Budget               124\n",
       "              Average              123\n",
       "              Expensive             20\n",
       "              Extravagant            0"
      ]
     },
     "execution_count": 60,
     "metadata": {},
     "output_type": "execute_result"
    }
   ],
   "source": [
    "Prices_by_borough =pd.DataFrame(Prices_by_borough)\n",
    "\n",
    "Prices_by_borough\n"
   ]
  },
  {
   "cell_type": "markdown",
   "id": "83e12acf",
   "metadata": {},
   "source": [
    "8.Export the datasets that you have cleaned."
   ]
  },
  {
   "cell_type": "code",
   "execution_count": 48,
   "id": "2d4077e1",
   "metadata": {},
   "outputs": [
    {
     "name": "stdout",
     "output_type": "stream",
     "text": [
      "{'Avgerage_price': 141.82, 'Average_price_per_month': 4313.61, 'Difference': 1213.61, 'Room_frequencies': Entire home/apt    13266\n",
      "Private room       11356\n",
      "Shared room          587\n",
      "Name: room_type, dtype: int64, 'First_reviewed': datetime.date(2019, 1, 1), 'Last_reviewed': datetime.date(2019, 7, 9), 'Prices_by_borough':                            Price_Range\n",
      "borough       Price_Range             \n",
      "Bronx         Budget               381\n",
      "              Average              285\n",
      "              Expensive             25\n",
      "              Extravagant            5\n",
      "Brooklyn      Budget              3194\n",
      "              Average             5532\n",
      "              Expensive           1466\n",
      "              Extravagant          259\n",
      "Manhattan     Budget              1148\n",
      "              Average             5285\n",
      "              Expensive           3072\n",
      "              Extravagant          810\n",
      "Queens        Budget              1631\n",
      "              Average             1505\n",
      "              Expensive            291\n",
      "              Extravagant           28\n",
      "Staten Island Budget               124\n",
      "              Average              123\n",
      "              Expensive             20\n",
      "              Extravagant            0}\n"
     ]
    }
   ],
   "source": [
    "airbnb_analysis = {'Avgerage_price':Avgerage_price,\n",
    "                   'Average_price_per_month':Average_price_per_month,\n",
    "                    'Difference':Difference,\n",
    "                     'Room_frequencies':Room_frequencies,\n",
    "                      'First_reviewed':First_reviewed,\n",
    "                       'Last_reviewed':Last_reviewed,\n",
    "                        'Prices_by_borough':Prices_by_borough}\n",
    "\n",
    "print(airbnb_analysis)\n",
    "                   "
   ]
  },
  {
   "cell_type": "code",
   "execution_count": 49,
   "id": "9e31de21",
   "metadata": {},
   "outputs": [
    {
     "data": {
      "text/plain": [
       "<bound method NDFrame.to_csv of        listing_id  price                 nbhood_full  price_per_month\n",
       "0            2595    225          Manhattan, Midtown      6843.750000\n",
       "1            3831     89      Brooklyn, Clinton Hill      2707.083333\n",
       "2            5099    200      Manhattan, Murray Hill      6083.333333\n",
       "3            5178     79   Manhattan, Hell's Kitchen      2402.916667\n",
       "4            5238    150        Manhattan, Chinatown      4562.500000\n",
       "...           ...    ...                         ...              ...\n",
       "25204    36425863    129  Manhattan, Upper East Side      3923.750000\n",
       "25205    36427429     45            Queens, Flushing      1368.750000\n",
       "25206    36438336    235  Staten Island, Great Kills      7147.916667\n",
       "25207    36442252    100           Bronx, Mott Haven      3041.666667\n",
       "25208    36455809     30          Brooklyn, Bushwick       912.500000\n",
       "\n",
       "[25202 rows x 4 columns]>"
      ]
     },
     "execution_count": 49,
     "metadata": {},
     "output_type": "execute_result"
    }
   ],
   "source": [
    "prices.to_csv"
   ]
  },
  {
   "cell_type": "code",
   "execution_count": 51,
   "id": "0f458658",
   "metadata": {},
   "outputs": [
    {
     "data": {
      "text/plain": [
       "<bound method NDFrame.to_csv of        listing_id    host_name last_review\n",
       "0            2595     Jennifer  2019-05-21\n",
       "1            3831  LisaRoxanne  2019-07-05\n",
       "2            5099        Chris  2019-06-22\n",
       "3            5178     Shunichi  2019-06-24\n",
       "4            5238          Ben  2019-06-09\n",
       "...           ...          ...         ...\n",
       "25204    36425863        Rusaa  2019-07-07\n",
       "25205    36427429         H Ai  2019-07-07\n",
       "25206    36438336          Ben  2019-07-07\n",
       "25207    36442252       Blaine  2019-07-07\n",
       "25208    36455809    Christine  2019-07-08\n",
       "\n",
       "[25209 rows x 3 columns]>"
      ]
     },
     "execution_count": 51,
     "metadata": {},
     "output_type": "execute_result"
    }
   ],
   "source": [
    "reviews.to_csv"
   ]
  },
  {
   "cell_type": "code",
   "execution_count": 52,
   "id": "f52ce50a",
   "metadata": {},
   "outputs": [
    {
     "data": {
      "text/plain": [
       "<bound method NDFrame.to_csv of        listing_id                                 description        room_type\n",
       "0            2595                       Skylit Midtown Castle  Entire home/apt\n",
       "1            3831             Cozy Entire Floor of Brownstone  Entire home/apt\n",
       "2            5099   Large Cozy 1 BR Apartment In Midtown East  Entire home/apt\n",
       "3            5178             Large Furnished Room Near B'way     Private room\n",
       "4            5238          Cute & Cozy Lower East Side 1 bdrm  Entire home/apt\n",
       "...           ...                                         ...              ...\n",
       "25204    36425863  Lovely Privet Bedroom with Privet Restroom     Private room\n",
       "25205    36427429                    No.2 with queen size bed     Private room\n",
       "25206    36438336                             Seas The Moment     Private room\n",
       "25207    36442252               1B-1B apartment near by Metro  Entire home/apt\n",
       "25208    36455809     Cozy Private Room in Bushwick, Brooklyn     Private room\n",
       "\n",
       "[25209 rows x 3 columns]>"
      ]
     },
     "execution_count": 52,
     "metadata": {},
     "output_type": "execute_result"
    }
   ],
   "source": [
    "room_types.to_csv"
   ]
  },
  {
   "cell_type": "code",
   "execution_count": null,
   "id": "4b79b61e",
   "metadata": {},
   "outputs": [],
   "source": []
  }
 ],
 "metadata": {
  "kernelspec": {
   "display_name": "Python 3 (ipykernel)",
   "language": "python",
   "name": "python3"
  },
  "language_info": {
   "codemirror_mode": {
    "name": "ipython",
    "version": 3
   },
   "file_extension": ".py",
   "mimetype": "text/x-python",
   "name": "python",
   "nbconvert_exporter": "python",
   "pygments_lexer": "ipython3",
   "version": "3.9.12"
  }
 },
 "nbformat": 4,
 "nbformat_minor": 5
}
